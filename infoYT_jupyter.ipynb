{
 "cells": [
  {
   "cell_type": "markdown",
   "metadata": {},
   "source": [
    "# YouTube Channel Video Tracker: Usage Examples"
   ]
  },
  {
   "cell_type": "markdown",
   "metadata": {},
   "source": [
    "## Introduction"
   ]
  },
  {
   "cell_type": "markdown",
   "metadata": {},
   "source": [
    "This notebook provides a comprehensive guide to the YouTube Channel Video Tracker tool. We'll explore each functionality, explaining how it works and why it's useful."
   ]
  },
  {
   "cell_type": "markdown",
   "metadata": {},
   "source": [
    "## Setup and Basic Concepts"
   ]
  },
  {
   "cell_type": "markdown",
   "metadata": {},
   "source": [
    "First, let's import our module and set up the environment:"
   ]
  },
  {
   "cell_type": "code",
   "execution_count": 5,
   "metadata": {},
   "outputs": [
    {
     "data": {
      "text/plain": [
       "True"
      ]
     },
     "execution_count": 5,
     "metadata": {},
     "output_type": "execute_result"
    }
   ],
   "source": [
    "import get_infoYT as gt\n",
    "from dotenv import load_dotenv\n",
    "\n",
    "load_dotenv()  # Load API key from .env file"
   ]
  },
  {
   "cell_type": "markdown",
   "metadata": {},
   "source": [
    "### Notes on YouTube API"
   ]
  },
  {
   "cell_type": "markdown",
   "metadata": {},
   "source": [
    "This program uses the YouTube API. You must set up a project and get an API key to run this program. More information: https://developers.google.com/youtube/registering_an_application"
   ]
  },
  {
   "cell_type": "markdown",
   "metadata": {},
   "source": [
    "Once you have an API Key, store it as an environment variable. Here's a quick setup example:"
   ]
  },
  {
   "cell_type": "code",
   "execution_count": 6,
   "metadata": {},
   "outputs": [],
   "source": [
    "import os\n",
    "from googleapiclient.discovery import build\n",
    "\n",
    "DEVELOPER_KEY = os.getenv('YOUTUBE_API_KEY')\n",
    "YOUTUBE_API_SERVICE_NAME = 'youtube'\n",
    "YOUTUBE_API_VERSION = 'v3'\n",
    "youtube = build(YOUTUBE_API_SERVICE_NAME, YOUTUBE_API_VERSION, developerKey=DEVELOPER_KEY)"
   ]
  },
  {
   "cell_type": "markdown",
   "metadata": {},
   "source": [
    "IMPORTANT: Your usage is determined by a daily Quota limit. Monitor this as each request depletes your quota."
   ]
  },
  {
   "cell_type": "markdown",
   "metadata": {},
   "source": [
    "## Creating a Channel Instance"
   ]
  },
  {
   "cell_type": "markdown",
   "metadata": {},
   "source": [
    "Let's start by creating an instance for a YouTube channel:"
   ]
  },
  {
   "cell_type": "code",
   "execution_count": 8,
   "metadata": {},
   "outputs": [
    {
     "name": "stdout",
     "output_type": "stream",
     "text": [
      "The file WeightliftingHouse_videos.json doesn't exist yet in the Channel_Videos/ folder. \n",
      "There is no history record for this channel.\n",
      "\n",
      "INFO ABOUT THE CHANNEL:\n",
      "The username for this channel is: Weightlifting House.\n",
      "The channel id is: UCd5WxLFvKjEbJl5xyUqyHSw\n",
      "The number of videos published by this channel is: 1061.\n"
     ]
    }
   ],
   "source": [
    "url1 = 'https://www.youtube.com/@WeightliftingHouse'\n",
    "channel1 = gt.InfoYT(url1)"
   ]
  },
  {
   "cell_type": "markdown",
   "metadata": {},
   "source": [
    "When we create an instance, it prints information about existing records and channel details. This is useful for quickly understanding the channel's size and our current data status."
   ]
  },
  {
   "cell_type": "markdown",
   "metadata": {},
   "source": [
    "## Retrieving Recent Videos"
   ]
  },
  {
   "cell_type": "markdown",
   "metadata": {},
   "source": [
    "We can fetch the most recent videos from the channel:"
   ]
  },
  {
   "cell_type": "code",
   "execution_count": 9,
   "metadata": {},
   "outputs": [
    {
     "data": {
      "text/plain": [
       "[{'video_id': 'F-6535Aeh_4',\n",
       "  'title': 'Make this lift &amp; go to the Olympics! #LuoShifang #weightlifting #olympicweightlifting',\n",
       "  'published_at': '2024-07-17T13:34:05Z',\n",
       "  'description': '',\n",
       "  'timestamps': None,\n",
       "  'duration': 'PT29S',\n",
       "  'tags': None},\n",
       " {'video_id': '52bB3Q1s1oA',\n",
       "  'title': 'How This Guy Saved Chinese Weightlifting | Liu Huanhua aka Gigachad #weightlifting',\n",
       "  'published_at': '2024-07-16T15:25:48Z',\n",
       "  'description': '',\n",
       "  'timestamps': None,\n",
       "  'duration': 'PT59S',\n",
       "  'tags': None},\n",
       " {'video_id': 'u51_xd3GJA4',\n",
       "  'title': 'How This Guy is Saving Chinese Weightlifting',\n",
       "  'published_at': '2024-07-16T12:40:11Z',\n",
       "  'description': \"Liu Huanhua, aka Giga Chad, has become arguably China's best weightlifter on the men's team. After years of total dominance, China's squad has started missing out on Gold medals. \\n\\nIn Thailand, at their most important competition of the entire Olympic quad, 'only' two of the six took home gold medals, two more managed medals, and two fell outside of the medals.\\n\\nWatch as Liu Huanhua journeys from the third ranked -89kg weightlifter in China to their World no.1 as an -102kg weightlifter. \\n\\nLinks you need 👇\\nWLHOUSE TV - https://weightliftinghouse.tv\\nGet 3 for 2 at https://www.weightliftinghouse.com\",\n",
       "  'timestamps': None,\n",
       "  'duration': 'PT15M30S',\n",
       "  'tags': ['Weightlifting',\n",
       "   'Olympic Weightlifting',\n",
       "   'Snatch',\n",
       "   'Clean and Jerk',\n",
       "   'Oly lifting',\n",
       "   'Weightlifting House',\n",
       "   'Seb Ostrowicz',\n",
       "   'Liu Huanhua',\n",
       "   'Liu Huanhua gigachad',\n",
       "   'gigachad',\n",
       "   'gigachad weightlifting',\n",
       "   'Lu huanhua',\n",
       "   'Liu Huanhua weightlifter',\n",
       "   'Chinese weightlifting',\n",
       "   'Liu Huanhua world record',\n",
       "   'Liu Huanhua 232',\n",
       "   'Liu Huanhua Olympic champion',\n",
       "   'Chinese weightlifters',\n",
       "   'squatjerk journalist',\n",
       "   'Lu Xiaojun Barbell',\n",
       "   'Thailand 2024',\n",
       "   'Olympic Games',\n",
       "   'Liu Huanhua snatch',\n",
       "   'Liu Huanhua clean and herk',\n",
       "   'Lesman',\n",
       "   'Akbar',\n",
       "   'Meso',\n",
       "   'WH']}]"
      ]
     },
     "execution_count": 9,
     "metadata": {},
     "output_type": "execute_result"
    }
   ],
   "source": [
    "channel1.get_recent_videos(max_result=3)"
   ]
  },
  {
   "cell_type": "markdown",
   "metadata": {},
   "source": [
    "This method is handy for quickly checking the latest content without processing the entire channel history."
   ]
  },
  {
   "cell_type": "markdown",
   "metadata": {},
   "source": [
    "## Working with Stored Data"
   ]
  },
  {
   "cell_type": "markdown",
   "metadata": {},
   "source": [
    "Let's examine a channel with existing stored data:"
   ]
  },
  {
   "cell_type": "code",
   "execution_count": 10,
   "metadata": {},
   "outputs": [
    {
     "name": "stdout",
     "output_type": "stream",
     "text": [
      "We already have history record for this channel in the file KeithGalli_videos.json.\n",
      "\n",
      "INFO ABOUT THE CHANNEL:\n",
      "The username for this channel is: Keith Galli.\n",
      "The channel id is: UCq6XkhO5SZ66N04IcPbqNcw\n",
      "The number of videos published by this channel is: 89.\n",
      "The number of videos already retrieved is: 89\n",
      "The oldest video was published on: 2016-12-27 21:12:20\n",
      "The most recent video was published on: 2024-06-29 14:10:02\n",
      "The total number of videos already stored is: 89.\n"
     ]
    },
    {
     "data": {
      "text/html": [
       "<div>\n",
       "<style scoped>\n",
       "    .dataframe tbody tr th:only-of-type {\n",
       "        vertical-align: middle;\n",
       "    }\n",
       "\n",
       "    .dataframe tbody tr th {\n",
       "        vertical-align: top;\n",
       "    }\n",
       "\n",
       "    .dataframe thead th {\n",
       "        text-align: right;\n",
       "    }\n",
       "</style>\n",
       "<table border=\"1\" class=\"dataframe\">\n",
       "  <thead>\n",
       "    <tr style=\"text-align: right;\">\n",
       "      <th></th>\n",
       "      <th>video_id</th>\n",
       "      <th>title</th>\n",
       "      <th>published_at</th>\n",
       "      <th>duration</th>\n",
       "      <th>description</th>\n",
       "      <th>tags</th>\n",
       "      <th>timestamps</th>\n",
       "    </tr>\n",
       "  </thead>\n",
       "  <tbody>\n",
       "    <tr>\n",
       "      <th>0</th>\n",
       "      <td>2uvysYbKdjM</td>\n",
       "      <td>Complete Python Pandas Data Science Tutorial! ...</td>\n",
       "      <td>2024-06-29 14:10:02+00:00</td>\n",
       "      <td>PT1H34M11S</td>\n",
       "      <td>Hey, what's up everyone? Welcome back to anoth...</td>\n",
       "      <td>[Keith Galli, python, programming, python 3, d...</td>\n",
       "      <td>{'0:00': '- Video Overview', '1:11': '- Gettin...</td>\n",
       "    </tr>\n",
       "    <tr>\n",
       "      <th>1</th>\n",
       "      <td>rPrFkmZ5Lws</td>\n",
       "      <td>The Most Epic Data Science Tutorial Promo Video!</td>\n",
       "      <td>2024-06-22 14:21:55+00:00</td>\n",
       "      <td>PT1M9S</td>\n",
       "      <td>Mark your calendars! New pandas data science t...</td>\n",
       "      <td>[Keith Galli, python, programming, python 3, d...</td>\n",
       "      <td>None</td>\n",
       "    </tr>\n",
       "    <tr>\n",
       "      <th>2</th>\n",
       "      <td>DcI_AZqfZVc</td>\n",
       "      <td>Advanced Web Scraping Tutorial! (w/ Python Bea...</td>\n",
       "      <td>2024-06-08 13:57:23+00:00</td>\n",
       "      <td>PT42M43S</td>\n",
       "      <td>Get started w/ Bright Data + $15 free credit u...</td>\n",
       "      <td>[Keith Galli, python, programming, python 3, d...</td>\n",
       "      <td>{'0:00': '- Intro &amp; Overview', '1:30': '- Iden...</td>\n",
       "    </tr>\n",
       "    <tr>\n",
       "      <th>3</th>\n",
       "      <td>oad9tVEsfI0</td>\n",
       "      <td>Real-World Dataset Cleaning with Python Pandas...</td>\n",
       "      <td>2024-04-20 08:10:35+00:00</td>\n",
       "      <td>PT2H2M26S</td>\n",
       "      <td>I'm prepping a dataset for an upcoming tutoria...</td>\n",
       "      <td>[Keith Galli, python, programming, python 3, d...</td>\n",
       "      <td>{'0:00': '- Livestream Overview', '4:00': '- A...</td>\n",
       "    </tr>\n",
       "    <tr>\n",
       "      <th>4</th>\n",
       "      <td>i7v2m-ebXB4</td>\n",
       "      <td>Solving 100 Python Pandas Problems! (from easy...</td>\n",
       "      <td>2024-04-13 17:43:22+00:00</td>\n",
       "      <td>PT5H20M18S</td>\n",
       "      <td>In this tutorial, you'll gain hands-on experie...</td>\n",
       "      <td>[Keith Galli, python, programming, python 3, d...</td>\n",
       "      <td>{'0:00': '- Intro &amp; Setup', '2:14': '- Problem...</td>\n",
       "    </tr>\n",
       "    <tr>\n",
       "      <th>...</th>\n",
       "      <td>...</td>\n",
       "      <td>...</td>\n",
       "      <td>...</td>\n",
       "      <td>...</td>\n",
       "      <td>...</td>\n",
       "      <td>...</td>\n",
       "      <td>...</td>\n",
       "    </tr>\n",
       "    <tr>\n",
       "      <th>84</th>\n",
       "      <td>5O6f1GTLLeQ</td>\n",
       "      <td>Simple explanation of Asymptotic Notation!</td>\n",
       "      <td>2017-01-17 06:39:43+00:00</td>\n",
       "      <td>PT9M47S</td>\n",
       "      <td>In this video I give a brief introduction on A...</td>\n",
       "      <td>[KeithGLearning, Keith Galli, MIT Student, MIT...</td>\n",
       "      <td>None</td>\n",
       "    </tr>\n",
       "    <tr>\n",
       "      <th>85</th>\n",
       "      <td>m0h6XzKfulM</td>\n",
       "      <td>Simplest way to remember Complementary vs Supp...</td>\n",
       "      <td>2017-01-14 20:43:23+00:00</td>\n",
       "      <td>PT3M20S</td>\n",
       "      <td>Quick video on a trick to remember the differe...</td>\n",
       "      <td>[KeithGLearning, Keith Galli, MIT Student, MIT...</td>\n",
       "      <td>None</td>\n",
       "    </tr>\n",
       "    <tr>\n",
       "      <th>86</th>\n",
       "      <td>jMpbYpaKtao</td>\n",
       "      <td>How to win at Battleship almost every time!</td>\n",
       "      <td>2017-01-02 20:51:35+00:00</td>\n",
       "      <td>PT7M53S</td>\n",
       "      <td>In this video, I walk you through the best way...</td>\n",
       "      <td>[KeithGLearning, Keith Galli, MIT Student, MIT...</td>\n",
       "      <td>None</td>\n",
       "    </tr>\n",
       "    <tr>\n",
       "      <th>87</th>\n",
       "      <td>sJgLi32jMo0</td>\n",
       "      <td>How to win at Othello almost every time!</td>\n",
       "      <td>2017-01-02 19:14:52+00:00</td>\n",
       "      <td>PT8M59S</td>\n",
       "      <td>This video gives you strategy tips for how to ...</td>\n",
       "      <td>[MIT Student, Keith Galli, KeithGLearning, Bes...</td>\n",
       "      <td>None</td>\n",
       "    </tr>\n",
       "    <tr>\n",
       "      <th>88</th>\n",
       "      <td>3R1Cx6uGjMw</td>\n",
       "      <td>How to win at Connect 4 almost every time!</td>\n",
       "      <td>2016-12-27 21:12:20+00:00</td>\n",
       "      <td>PT6M10S</td>\n",
       "      <td>In this video, I walk through some of the best...</td>\n",
       "      <td>[Connect 4, How To Win, Board Game Strategy, C...</td>\n",
       "      <td>None</td>\n",
       "    </tr>\n",
       "  </tbody>\n",
       "</table>\n",
       "<p>89 rows × 7 columns</p>\n",
       "</div>"
      ],
      "text/plain": [
       "       video_id                                              title  \\\n",
       "0   2uvysYbKdjM  Complete Python Pandas Data Science Tutorial! ...   \n",
       "1   rPrFkmZ5Lws   The Most Epic Data Science Tutorial Promo Video!   \n",
       "2   DcI_AZqfZVc  Advanced Web Scraping Tutorial! (w/ Python Bea...   \n",
       "3   oad9tVEsfI0  Real-World Dataset Cleaning with Python Pandas...   \n",
       "4   i7v2m-ebXB4  Solving 100 Python Pandas Problems! (from easy...   \n",
       "..          ...                                                ...   \n",
       "84  5O6f1GTLLeQ         Simple explanation of Asymptotic Notation!   \n",
       "85  m0h6XzKfulM  Simplest way to remember Complementary vs Supp...   \n",
       "86  jMpbYpaKtao        How to win at Battleship almost every time!   \n",
       "87  sJgLi32jMo0           How to win at Othello almost every time!   \n",
       "88  3R1Cx6uGjMw         How to win at Connect 4 almost every time!   \n",
       "\n",
       "                published_at    duration  \\\n",
       "0  2024-06-29 14:10:02+00:00  PT1H34M11S   \n",
       "1  2024-06-22 14:21:55+00:00      PT1M9S   \n",
       "2  2024-06-08 13:57:23+00:00    PT42M43S   \n",
       "3  2024-04-20 08:10:35+00:00   PT2H2M26S   \n",
       "4  2024-04-13 17:43:22+00:00  PT5H20M18S   \n",
       "..                       ...         ...   \n",
       "84 2017-01-17 06:39:43+00:00     PT9M47S   \n",
       "85 2017-01-14 20:43:23+00:00     PT3M20S   \n",
       "86 2017-01-02 20:51:35+00:00     PT7M53S   \n",
       "87 2017-01-02 19:14:52+00:00     PT8M59S   \n",
       "88 2016-12-27 21:12:20+00:00     PT6M10S   \n",
       "\n",
       "                                          description  \\\n",
       "0   Hey, what's up everyone? Welcome back to anoth...   \n",
       "1   Mark your calendars! New pandas data science t...   \n",
       "2   Get started w/ Bright Data + $15 free credit u...   \n",
       "3   I'm prepping a dataset for an upcoming tutoria...   \n",
       "4   In this tutorial, you'll gain hands-on experie...   \n",
       "..                                                ...   \n",
       "84  In this video I give a brief introduction on A...   \n",
       "85  Quick video on a trick to remember the differe...   \n",
       "86  In this video, I walk you through the best way...   \n",
       "87  This video gives you strategy tips for how to ...   \n",
       "88  In this video, I walk through some of the best...   \n",
       "\n",
       "                                                 tags  \\\n",
       "0   [Keith Galli, python, programming, python 3, d...   \n",
       "1   [Keith Galli, python, programming, python 3, d...   \n",
       "2   [Keith Galli, python, programming, python 3, d...   \n",
       "3   [Keith Galli, python, programming, python 3, d...   \n",
       "4   [Keith Galli, python, programming, python 3, d...   \n",
       "..                                                ...   \n",
       "84  [KeithGLearning, Keith Galli, MIT Student, MIT...   \n",
       "85  [KeithGLearning, Keith Galli, MIT Student, MIT...   \n",
       "86  [KeithGLearning, Keith Galli, MIT Student, MIT...   \n",
       "87  [MIT Student, Keith Galli, KeithGLearning, Bes...   \n",
       "88  [Connect 4, How To Win, Board Game Strategy, C...   \n",
       "\n",
       "                                           timestamps  \n",
       "0   {'0:00': '- Video Overview', '1:11': '- Gettin...  \n",
       "1                                                None  \n",
       "2   {'0:00': '- Intro & Overview', '1:30': '- Iden...  \n",
       "3   {'0:00': '- Livestream Overview', '4:00': '- A...  \n",
       "4   {'0:00': '- Intro & Setup', '2:14': '- Problem...  \n",
       "..                                                ...  \n",
       "84                                               None  \n",
       "85                                               None  \n",
       "86                                               None  \n",
       "87                                               None  \n",
       "88                                               None  \n",
       "\n",
       "[89 rows x 7 columns]"
      ]
     },
     "execution_count": 10,
     "metadata": {},
     "output_type": "execute_result"
    }
   ],
   "source": [
    "url2 = 'https://www.youtube.com/@KeithGalli/videos'\n",
    "channel2 = gt.InfoYT(url2)\n",
    "\n",
    "print(f'The total number of videos already stored is: {len(channel2.all_videos)}.')\n",
    "channel2.all_videos\n",
    "channel2.get_videos_dataframe()"
   ]
  },
  {
   "cell_type": "markdown",
   "metadata": {},
   "source": [
    "The `all_videos` attribute contains our stored data, while `get_videos_dataframe()` presents it in a pandas DataFrame for easy analysis."
   ]
  },
  {
   "cell_type": "markdown",
   "metadata": {},
   "source": [
    "## Updating and Retrieving More Data"
   ]
  },
  {
   "cell_type": "markdown",
   "metadata": {},
   "source": [
    "There are two methods for updating our data:\n",
    "\n",
    "Looking at recent uploads:"
   ]
  },
  {
   "cell_type": "code",
   "execution_count": 11,
   "metadata": {},
   "outputs": [
    {
     "name": "stdout",
     "output_type": "stream",
     "text": [
      "I've found 0 new videos to be added!\n"
     ]
    }
   ],
   "source": [
    "channel2.update_videos(max_result=10)"
   ]
  },
  {
   "cell_type": "markdown",
   "metadata": {},
   "source": [
    "This is useful for regularly updating our dataset with new videos."
   ]
  },
  {
   "cell_type": "markdown",
   "metadata": {},
   "source": [
    "Retrieving older videos:"
   ]
  },
  {
   "cell_type": "code",
   "execution_count": 12,
   "metadata": {},
   "outputs": [
    {
     "name": "stdout",
     "output_type": "stream",
     "text": [
      "All the videos in the channel have already been retrieved!\n"
     ]
    }
   ],
   "source": [
    "channel2.get_all_videos(max_videos=100)"
   ]
  },
  {
   "cell_type": "markdown",
   "metadata": {},
   "source": [
    "This method helps fill in historical data, especially useful for newly tracked channels."
   ]
  },
  {
   "cell_type": "markdown",
   "metadata": {},
   "source": [
    "Let's see an example with a channel that has incomplete data:"
   ]
  },
  {
   "cell_type": "code",
   "execution_count": 17,
   "metadata": {},
   "outputs": [
    {
     "name": "stdout",
     "output_type": "stream",
     "text": [
      "We already have history record for this channel in the file LexFridman_videos.json.\n",
      "\n",
      "INFO ABOUT THE CHANNEL:\n",
      "The username for this channel is: Lex Fridman.\n",
      "The channel id is: UCSHZKyawb77ixDdsGog4iWA\n",
      "The number of videos published by this channel is: 802.\n",
      "The number of videos already retrieved is: 302\n",
      "The oldest video was published on: 2020-09-05 17:31:48\n",
      "The most recent video was published on: 2024-06-19 20:42:46\n"
     ]
    }
   ],
   "source": [
    "url3 = 'https://www.youtube.com/watch?v=XJTMQtE-MIo&t=1s'\n",
    "channel3 = gt.InfoYT(url3)"
   ]
  },
  {
   "cell_type": "code",
   "execution_count": 18,
   "metadata": {},
   "outputs": [
    {
     "name": "stdout",
     "output_type": "stream",
     "text": [
      "302\n",
      "The number of videos already retrieved is 302. \n",
      "This download will retrieve videos published before 2020-09-05 17:31:48.\n",
      "This download has retrieved 104 videos.\n",
      "405\n"
     ]
    }
   ],
   "source": [
    "print(len(channel3.all_videos))\n",
    "channel3.get_all_videos(max_videos=100)\n",
    "print(len(channel3.all_videos))"
   ]
  },
  {
   "cell_type": "markdown",
   "metadata": {},
   "source": [
    "This demonstrates how we can expand our dataset for channels with partial information."
   ]
  },
  {
   "cell_type": "markdown",
   "metadata": {},
   "source": [
    "## Saving Updated Data"
   ]
  },
  {
   "cell_type": "markdown",
   "metadata": {},
   "source": [
    "After retrieving new data, save it to storage:"
   ]
  },
  {
   "cell_type": "code",
   "execution_count": null,
   "metadata": {},
   "outputs": [],
   "source": [
    "#channel3.save_to_json()"
   ]
  },
  {
   "cell_type": "markdown",
   "metadata": {},
   "source": [
    "This function overwrites the previous file, ensuring our stored data is always up-to-date."
   ]
  },
  {
   "cell_type": "markdown",
   "metadata": {},
   "source": [
    "## Handling Missing Videos"
   ]
  },
  {
   "cell_type": "markdown",
   "metadata": {},
   "source": [
    "To catch videos that might have been missed:"
   ]
  },
  {
   "cell_type": "code",
   "execution_count": null,
   "metadata": {},
   "outputs": [],
   "source": [
    "channel3.run_reverse_order(max_videos=100)"
   ]
  },
  {
   "cell_type": "markdown",
   "metadata": {},
   "source": [
    "This function helps ensure comprehensive coverage of a channel's content by searching for potentially missed videos."
   ]
  },
  {
   "cell_type": "markdown",
   "metadata": {},
   "source": [
    "## Sample API Request"
   ]
  },
  {
   "cell_type": "markdown",
   "metadata": {},
   "source": [
    "Here's an example of using the YouTube API directly:"
   ]
  },
  {
   "cell_type": "code",
   "execution_count": 15,
   "metadata": {},
   "outputs": [
    {
     "data": {
      "text/plain": [
       "{'kind': 'youtube#searchListResponse',\n",
       " 'etag': 'NdHjoxZ14Tqe1V8z7PSCjIatG_0',\n",
       " 'nextPageToken': 'CAUQAA',\n",
       " 'regionCode': 'IT',\n",
       " 'pageInfo': {'totalResults': 1000000, 'resultsPerPage': 5},\n",
       " 'items': [{'kind': 'youtube#searchResult',\n",
       "   'etag': 'NSIR0y0cF51BhpGOZOsQrm3NpW8',\n",
       "   'id': {'kind': 'youtube#video', 'videoId': 'u51_xd3GJA4'},\n",
       "   'snippet': {'publishedAt': '2024-07-16T12:40:11Z',\n",
       "    'channelId': 'UCd5WxLFvKjEbJl5xyUqyHSw',\n",
       "    'title': 'How This Guy is Saving Chinese Weightlifting',\n",
       "    'description': \"Liu Huanhua, aka Giga Chad, has become arguably China's best weightlifter on the men's team. After years of total dominance, ...\",\n",
       "    'thumbnails': {'default': {'url': 'https://i.ytimg.com/vi/u51_xd3GJA4/default.jpg',\n",
       "      'width': 120,\n",
       "      'height': 90},\n",
       "     'medium': {'url': 'https://i.ytimg.com/vi/u51_xd3GJA4/mqdefault.jpg',\n",
       "      'width': 320,\n",
       "      'height': 180},\n",
       "     'high': {'url': 'https://i.ytimg.com/vi/u51_xd3GJA4/hqdefault.jpg',\n",
       "      'width': 480,\n",
       "      'height': 360}},\n",
       "    'channelTitle': 'Weightlifting House',\n",
       "    'liveBroadcastContent': 'none',\n",
       "    'publishTime': '2024-07-16T12:40:11Z'}},\n",
       "  {'kind': 'youtube#searchResult',\n",
       "   'etag': 'H1rkydNuTwLhU0-xSRZCJjXqexg',\n",
       "   'id': {'kind': 'youtube#video', 'videoId': 'hC6QB0FSQSM'},\n",
       "   'snippet': {'publishedAt': '2024-07-16T13:52:46Z',\n",
       "    'channelId': 'UCC5VtyL2x3KnxlW7kRhvoqA',\n",
       "    'title': 'Is Street Weightlifting the Future? Swiss Street Weightlifting 2024',\n",
       "    'description': 'Experience the best moments of Street Weightlifting third edition! Watch the highlights from the event held in the Olympic capital, ...',\n",
       "    'thumbnails': {'default': {'url': 'https://i.ytimg.com/vi/hC6QB0FSQSM/default.jpg',\n",
       "      'width': 120,\n",
       "      'height': 90},\n",
       "     'medium': {'url': 'https://i.ytimg.com/vi/hC6QB0FSQSM/mqdefault.jpg',\n",
       "      'width': 320,\n",
       "      'height': 180},\n",
       "     'high': {'url': 'https://i.ytimg.com/vi/hC6QB0FSQSM/hqdefault.jpg',\n",
       "      'width': 480,\n",
       "      'height': 360}},\n",
       "    'channelTitle': 'TOROKHTIY MEDIA',\n",
       "    'liveBroadcastContent': 'none',\n",
       "    'publishTime': '2024-07-16T13:52:46Z'}},\n",
       "  {'kind': 'youtube#searchResult',\n",
       "   'etag': 'cTDl5OE6F8l3gPCcKPdFZj_oooU',\n",
       "   'id': {'kind': 'youtube#video', 'videoId': 'UBc5N_-xdqo'},\n",
       "   'snippet': {'publishedAt': '2016-08-16T01:52:35Z',\n",
       "    'channelId': 'UCg2cg7VUte3kMKs1xypX-fQ',\n",
       "    'title': 'SNATCH / Olympic weightlifting',\n",
       "    'description': \"Join my FREE 14 day weightlifting training program! Simply google 'Torokhtiy Free Program' and grab a free beginner-friendly ...\",\n",
       "    'thumbnails': {'default': {'url': 'https://i.ytimg.com/vi/UBc5N_-xdqo/default.jpg',\n",
       "      'width': 120,\n",
       "      'height': 90},\n",
       "     'medium': {'url': 'https://i.ytimg.com/vi/UBc5N_-xdqo/mqdefault.jpg',\n",
       "      'width': 320,\n",
       "      'height': 180},\n",
       "     'high': {'url': 'https://i.ytimg.com/vi/UBc5N_-xdqo/hqdefault.jpg',\n",
       "      'width': 480,\n",
       "      'height': 360}},\n",
       "    'channelTitle': 'TOROKHTIY',\n",
       "    'liveBroadcastContent': 'none',\n",
       "    'publishTime': '2016-08-16T01:52:35Z'}},\n",
       "  {'kind': 'youtube#searchResult',\n",
       "   'etag': 'V1R00eWjdATVR0r3O6WTR7_BPao',\n",
       "   'id': {'kind': 'youtube#video', 'videoId': 'FWM7yGZDvbk'},\n",
       "   'snippet': {'publishedAt': '2023-05-16T12:55:22Z',\n",
       "    'channelId': 'UCd5WxLFvKjEbJl5xyUqyHSw',\n",
       "    'title': 'Giula’s Snatch Depth Gives A Huge Advantage #weightlifting',\n",
       "    'description': '',\n",
       "    'thumbnails': {'default': {'url': 'https://i.ytimg.com/vi/FWM7yGZDvbk/default.jpg',\n",
       "      'width': 120,\n",
       "      'height': 90},\n",
       "     'medium': {'url': 'https://i.ytimg.com/vi/FWM7yGZDvbk/mqdefault.jpg',\n",
       "      'width': 320,\n",
       "      'height': 180},\n",
       "     'high': {'url': 'https://i.ytimg.com/vi/FWM7yGZDvbk/hqdefault.jpg',\n",
       "      'width': 480,\n",
       "      'height': 360}},\n",
       "    'channelTitle': 'Weightlifting House',\n",
       "    'liveBroadcastContent': 'none',\n",
       "    'publishTime': '2023-05-16T12:55:22Z'}},\n",
       "  {'kind': 'youtube#searchResult',\n",
       "   'etag': 'maQlR2OReMFrJhzcSuhYfao6KLQ',\n",
       "   'id': {'kind': 'youtube#video', 'videoId': 'CmbpaCVN57Q'},\n",
       "   'snippet': {'publishedAt': '2024-07-14T18:12:51Z',\n",
       "    'channelId': 'UC94_fvLx7abZgs9LIkM7jxw',\n",
       "    'title': 'Chinese Weightlifting&#39;s INSANE Kid Athlete Selection',\n",
       "    'description': \"How do China choose the next best weightlifter from children? Well here's how. Get clothing here: https://barbellapparel.com/ ...\",\n",
       "    'thumbnails': {'default': {'url': 'https://i.ytimg.com/vi/CmbpaCVN57Q/default.jpg',\n",
       "      'width': 120,\n",
       "      'height': 90},\n",
       "     'medium': {'url': 'https://i.ytimg.com/vi/CmbpaCVN57Q/mqdefault.jpg',\n",
       "      'width': 320,\n",
       "      'height': 180},\n",
       "     'high': {'url': 'https://i.ytimg.com/vi/CmbpaCVN57Q/hqdefault.jpg',\n",
       "      'width': 480,\n",
       "      'height': 360}},\n",
       "    'channelTitle': 'Zack Telander',\n",
       "    'liveBroadcastContent': 'none',\n",
       "    'publishTime': '2024-07-14T18:12:51Z'}}]}"
      ]
     },
     "execution_count": 15,
     "metadata": {},
     "output_type": "execute_result"
    }
   ],
   "source": [
    "# this is a sample API request to search for a specific keyword\n",
    "query = 'weightlifting'\n",
    "request = youtube.search().list(\n",
    "            part=\"snippet\",\n",
    "            q=query,\n",
    "            #type=\"channel\",\n",
    "            maxResults=5\n",
    "            )\n",
    "response = request.execute()\n",
    "response"
   ]
  },
  {
   "cell_type": "markdown",
   "metadata": {},
   "source": [
    "This demonstrates how to perform custom queries, which can be useful for more specific data needs beyond channel analysis."
   ]
  },
  {
   "cell_type": "code",
   "execution_count": null,
   "metadata": {},
   "outputs": [],
   "source": []
  }
 ],
 "metadata": {
  "kernelspec": {
   "display_name": ".venv",
   "language": "python",
   "name": "python3"
  },
  "language_info": {
   "codemirror_mode": {
    "name": "ipython",
    "version": 3
   },
   "file_extension": ".py",
   "mimetype": "text/x-python",
   "name": "python",
   "nbconvert_exporter": "python",
   "pygments_lexer": "ipython3",
   "version": "3.11.3"
  }
 },
 "nbformat": 4,
 "nbformat_minor": 2
}
